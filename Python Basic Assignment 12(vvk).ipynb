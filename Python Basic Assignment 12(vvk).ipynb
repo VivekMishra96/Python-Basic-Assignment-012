{
 "cells": [
  {
   "cell_type": "code",
   "execution_count": null,
   "id": "4e7ebc83",
   "metadata": {},
   "outputs": [],
   "source": [
    "1. In what modes should the PdfFileReader() and PdfFileWriter() File objects will be opened?"
   ]
  },
  {
   "cell_type": "code",
   "execution_count": null,
   "id": "e9242537",
   "metadata": {},
   "outputs": [],
   "source": [
    "Ans.Read-binary ('rb') for PdfFileReader() and write-binary ('wb') for PdfFileWriter()"
   ]
  },
  {
   "cell_type": "code",
   "execution_count": null,
   "id": "4baffc48",
   "metadata": {},
   "outputs": [],
   "source": [
    "2.From a PdfFileReader object, how do you get a Page object for page 5?"
   ]
  },
  {
   "cell_type": "code",
   "execution_count": null,
   "id": "84a5e63e",
   "metadata": {},
   "outputs": [],
   "source": [
    "Ans.Calling getPage(4) will return a Page object for page 5, since page 0 is the first page."
   ]
  },
  {
   "cell_type": "code",
   "execution_count": null,
   "id": "1287e4c0",
   "metadata": {},
   "outputs": [],
   "source": [
    "3.What PdfFileReader variable stores the number of pages in the PDF document?"
   ]
  },
  {
   "cell_type": "code",
   "execution_count": null,
   "id": "d667f4a9",
   "metadata": {},
   "outputs": [],
   "source": [
    "Ans.The numPages variable stores an integer of the number of pages in the PdfFileReader object."
   ]
  },
  {
   "cell_type": "code",
   "execution_count": null,
   "id": "a3b048cd",
   "metadata": {},
   "outputs": [],
   "source": [
    "4. If a PdfFileReader object’s PDF is encrypted with the password swordfish, what must you do before you can obtain Page objects from it?"
   ]
  },
  {
   "cell_type": "code",
   "execution_count": null,
   "id": "91282528",
   "metadata": {},
   "outputs": [],
   "source": [
    "Ans.Call decrypt('swordfish').Use doc.paragraphs."
   ]
  },
  {
   "cell_type": "code",
   "execution_count": null,
   "id": "24a93a90",
   "metadata": {},
   "outputs": [],
   "source": [
    "5.What methods do you use to rotate a page?old, underline, italic, strike, and outline variables?"
   ]
  },
  {
   "cell_type": "code",
   "execution_count": null,
   "id": "35d6fbad",
   "metadata": {},
   "outputs": [],
   "source": [
    "Ans.The rotateClockwise() and rotateCounterClockwise() methods. The degrees to rotate is passed as an integer argument."
   ]
  },
  {
   "cell_type": "code",
   "execution_count": null,
   "id": "57816884",
   "metadata": {},
   "outputs": [],
   "source": [
    "6.What is the difference between a Run object and a Paragraph object?"
   ]
  },
  {
   "cell_type": "code",
   "execution_count": null,
   "id": "2ea0d4b7",
   "metadata": {},
   "outputs": [],
   "source": [
    "Ans.A document contains multiple paragraphs. A paragraph begins on a new line and contains multiple runs. Runs are contiguous groups of characters within a paragraph."
   ]
  },
  {
   "cell_type": "code",
   "execution_count": null,
   "id": "2868ba5e",
   "metadata": {},
   "outputs": [],
   "source": [
    "7.How do you obtain a list of Paragraph objects for a Document object that’s stored in a variable named doc?"
   ]
  },
  {
   "cell_type": "code",
   "execution_count": null,
   "id": "50e7fa11",
   "metadata": {},
   "outputs": [],
   "source": [
    "Ans.Use doc.paragraphs."
   ]
  },
  {
   "cell_type": "code",
   "execution_count": null,
   "id": "e78ccb14",
   "metadata": {},
   "outputs": [],
   "source": [
    "8. What type of object has bold, underline, italic, strike, and outline variables?"
   ]
  },
  {
   "cell_type": "code",
   "execution_count": null,
   "id": "a14b589d",
   "metadata": {},
   "outputs": [],
   "source": [
    "Ans.A Run object has these variables (not a Paragraph)."
   ]
  },
  {
   "cell_type": "code",
   "execution_count": null,
   "id": "4b353850",
   "metadata": {},
   "outputs": [],
   "source": [
    "9.What is the difference between False, True, and None for the bold variable?"
   ]
  },
  {
   "cell_type": "code",
   "execution_count": null,
   "id": "241b7028",
   "metadata": {},
   "outputs": [],
   "source": [
    "Ans.True always makes the Run object bolded and False makes it always not bolded, no matter what the style’s bold setting is. None will make the Run object just use the style’s bold setting."
   ]
  },
  {
   "cell_type": "code",
   "execution_count": null,
   "id": "f3baf2ed",
   "metadata": {},
   "outputs": [],
   "source": [
    "10.How do you create a Document object for a new Word document?"
   ]
  },
  {
   "cell_type": "code",
   "execution_count": null,
   "id": "5ad8f1c2",
   "metadata": {},
   "outputs": [],
   "source": [
    "Ans.Call the docx.Document() function."
   ]
  },
  {
   "cell_type": "code",
   "execution_count": null,
   "id": "8dedd4ac",
   "metadata": {},
   "outputs": [],
   "source": [
    "11. How do you add a paragraph with the text 'Hello, there!' to a Document object stored in a variable named doc?"
   ]
  },
  {
   "cell_type": "code",
   "execution_count": null,
   "id": "f5c68926",
   "metadata": {},
   "outputs": [],
   "source": [
    "Ans.doc.add_paragraph('Hello there!')"
   ]
  },
  {
   "cell_type": "code",
   "execution_count": null,
   "id": "fd55019a",
   "metadata": {},
   "outputs": [],
   "source": [
    "12.What integers represent the levels of headings available in Word documents?"
   ]
  },
  {
   "cell_type": "code",
   "execution_count": null,
   "id": "6bc17e97",
   "metadata": {},
   "outputs": [],
   "source": [
    "Ans.The integers 0, 1, 2, 3, and 4"
   ]
  },
  {
   "cell_type": "code",
   "execution_count": null,
   "id": "7db7cdc5",
   "metadata": {},
   "outputs": [],
   "source": []
  },
  {
   "cell_type": "code",
   "execution_count": null,
   "id": "1fcae0ae",
   "metadata": {},
   "outputs": [],
   "source": []
  },
  {
   "cell_type": "code",
   "execution_count": null,
   "id": "af3c55f5",
   "metadata": {},
   "outputs": [],
   "source": []
  },
  {
   "cell_type": "code",
   "execution_count": null,
   "id": "6e5b80b2",
   "metadata": {},
   "outputs": [],
   "source": []
  },
  {
   "cell_type": "code",
   "execution_count": null,
   "id": "d643e786",
   "metadata": {},
   "outputs": [],
   "source": []
  },
  {
   "cell_type": "code",
   "execution_count": null,
   "id": "2340a617",
   "metadata": {},
   "outputs": [],
   "source": []
  },
  {
   "cell_type": "code",
   "execution_count": null,
   "id": "74c74355",
   "metadata": {},
   "outputs": [],
   "source": []
  },
  {
   "cell_type": "code",
   "execution_count": null,
   "id": "0cfa6ff3",
   "metadata": {},
   "outputs": [],
   "source": []
  },
  {
   "cell_type": "code",
   "execution_count": null,
   "id": "ae01fd4d",
   "metadata": {},
   "outputs": [],
   "source": []
  },
  {
   "cell_type": "code",
   "execution_count": null,
   "id": "0437edcb",
   "metadata": {},
   "outputs": [],
   "source": []
  },
  {
   "cell_type": "code",
   "execution_count": null,
   "id": "d869bccd",
   "metadata": {},
   "outputs": [],
   "source": []
  },
  {
   "cell_type": "code",
   "execution_count": null,
   "id": "2a15c22f",
   "metadata": {},
   "outputs": [],
   "source": [
    "\n"
   ]
  }
 ],
 "metadata": {
  "kernelspec": {
   "display_name": "Python 3 (ipykernel)",
   "language": "python",
   "name": "python3"
  },
  "language_info": {
   "codemirror_mode": {
    "name": "ipython",
    "version": 3
   },
   "file_extension": ".py",
   "mimetype": "text/x-python",
   "name": "python",
   "nbconvert_exporter": "python",
   "pygments_lexer": "ipython3",
   "version": "3.9.7"
  }
 },
 "nbformat": 4,
 "nbformat_minor": 5
}
